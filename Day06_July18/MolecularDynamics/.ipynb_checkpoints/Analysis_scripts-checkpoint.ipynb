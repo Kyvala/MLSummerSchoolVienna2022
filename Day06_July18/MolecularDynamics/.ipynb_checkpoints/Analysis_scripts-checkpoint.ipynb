{
 "cells": [
  {
   "cell_type": "code",
   "execution_count": null,
   "metadata": {},
   "outputs": [],
   "source": [
    "import warnings\n",
    "warnings.filterwarnings('ignore', category=DeprecationWarning)\n",
    "warnings.filterwarnings('ignore', category=UserWarning)\n",
    "import nglview as nv\n",
    "import matplotlib.pyplot as plt"
   ]
  },
  {
   "cell_type": "markdown",
   "metadata": {},
   "source": [
    "# Visualizing the trajectory using nglview\n",
    "It is always a good idea to render your molecular dynamics simulations to check if anything strange is going on. \n",
    "\n",
    "If your simulation has just started the movie will be very short. Re-run the following cell to update results."
   ]
  },
  {
   "cell_type": "code",
   "execution_count": null,
   "metadata": {
    "scrolled": true
   },
   "outputs": [],
   "source": [
    "import warnings\n",
    "warnings.filterwarnings('ignore', category=DeprecationWarning)\n",
    "import MDAnalysis as mda\n",
    "\n",
    "# The trajectory is imported through MDAnalysis\n",
    "mda_traj = mda.Universe(\"./H2O/traj.dump\", topology_format=\"LAMMPSDUMP\")\n",
    "\n",
    "# Atoms are named appropriately\n",
    "atomtypes_to_names = []\n",
    "for i in range(len(mda_traj.atoms)):\n",
    "    if mda_traj.atoms[i].type == \"1\":\n",
    "        atomtypes_to_names.append(\"O\")\n",
    "    elif mda_traj.atoms[i].type == \"2\":\n",
    "        atomtypes_to_names.append(\"H\")\n",
    "mda_traj.add_TopologyAttr(\"name\", atomtypes_to_names)\n",
    "\n",
    "mda_view = nv.show_mdanalysis(mda_traj)\n",
    "mda_view.clear_representations()\n",
    "mda_view.add_representation('spacefill',radius =0.8)\n",
    "mda_view\n",
    "\n",
    "#IF RENDER LOOKS TRIPPY, TRY DIFFERENT BROWSER!"
   ]
  },
  {
   "cell_type": "markdown",
   "metadata": {},
   "source": [
    "# Energy conservation - NVE ensemble\n",
    "Using a small script provided in the directory we can import all observables saved in the log.lammps file. The  instantaneous temperature in molecular dynamics simulations is defined through: $E_{kin} = \\frac{dim}{2} N_{atoms} k_B T$.\n",
    "\n",
    "The total energy should stay as conserved as possible, only allowing small fluctuations. A drift in energy should not be observed. Is this fulfilled for our simulation? How can we reduce fluctuations?"
   ]
  },
  {
   "cell_type": "code",
   "execution_count": null,
   "metadata": {},
   "outputs": [],
   "source": [
    "import log\n",
    "\n",
    "logfile = log.File(\"./H2O/log.lammps\")\n",
    "PotEng = logfile.get('PotEng')\n",
    "Press = logfile.get('Press')\n",
    "\n",
    "\n",
    "plt.plot(logfile.get('Temp'))\n",
    "plt.xlabel('time (fs)')\n",
    "plt.ylabel('T (K)')\n",
    "plt.show()\n",
    "\n",
    "plt.plot(logfile.get('TotEng'))\n",
    "plt.xlabel('time (fs)')\n",
    "plt.ylabel('Total Energy (eV)')\n",
    "plt.show()\n",
    "\n",
    "plt.plot(logfile.get('Press'))\n",
    "plt.xlabel('time (fs)')\n",
    "plt.ylabel('Pressure (bar)')\n",
    "plt.show()\n"
   ]
  },
  {
   "cell_type": "markdown",
   "metadata": {},
   "source": [
    "Since we use the NVE ensemble, temperature and pressure are not controlled. Calculate the mean temperature and pressure and evaluate whether we are close to standard temperature and pressure."
   ]
  },
  {
   "cell_type": "code",
   "execution_count": null,
   "metadata": {},
   "outputs": [],
   "source": [
    "# COMPLETE MISSING ARGUMENT OF GET()\n",
    "inport numpy as np\n",
    "print(np.mean(logfile.get('')))"
   ]
  },
  {
   "cell_type": "markdown",
   "metadata": {},
   "source": [
    "# Calculation of the O-O pair correlation function\n",
    "The pair correlation function $ g(r)=\\frac{V}{4\\pi r^{2}N^{2}} \\langle\\sum_{i}\\sum_{j\\neq i} \\delta (r-r_{ij}) \\rangle$ is the conditional probability density of finding a particle at a radial distance $r$, given that there is a particle at the coordinate origin. It provides a measure of the local spatial ordering in a fluid and is an important material property that we want reproduce with our machine learning force-field. Find how a pair correlation function should look like for fluids and compare it with your results.\n",
    "\n",
    "If your MD-simulation has less than 2000 steps the function will look a bit rough. Re-run the following cell after some time. It will smooth out over time."
   ]
  },
  {
   "cell_type": "code",
   "execution_count": null,
   "metadata": {},
   "outputs": [],
   "source": [
    "import MDAnalysis.analysis.rdf\n",
    "\n",
    "mda_traj = mda.Universe(\"./H2O/traj.dump\", topology_format=\"LAMMPSDUMP\")\n",
    "Oxygen_atoms = mda_traj.select_atoms(\"type 2\")\n",
    "rdf = mda.analysis.rdf.InterRDF(Oxygen_atoms, Oxygen_atoms, bins = 100, exclusion_block=(1, 1), range =(0,8))\n",
    "rdf.run()\n",
    "\n",
    "plt.plot(rdf.results.bins, rdf.results.rdf)\n",
    "plt.xlabel('Radius (angstrom)')\n",
    "plt.ylabel('Radial distribution')\n",
    "plt.xlim(0,8)"
   ]
  },
  {
   "cell_type": "markdown",
   "metadata": {},
   "source": [
    "# Determination of diffusion behaviour\n",
    "Finally, we can also check the diffusion behaviour of our water molecules by looking at the mean square displacement after a time interval $\\tau$. For a brownian particle, the mean square displacement in three dimensions will grow linearly with $MSD = 2 D \\tau$ where $D$ is its diffusion coefficient. \n",
    "\n",
    "Is this fulfilled everywhere? What happens at the \"ballistic\"-regime?"
   ]
  },
  {
   "cell_type": "code",
   "execution_count": null,
   "metadata": {},
   "outputs": [],
   "source": [
    "import MDAnalysis.analysis.msd as msd\n",
    "import numpy as np\n",
    "\n",
    "mda_traj = mda.Universe(\"./H2O/traj.dump\", topology_format=\"LAMMPSDUMP\")\n",
    "\n",
    "MSD = msd.EinsteinMSD(mda_traj, select='all', msd_type='xyz', fft=False)\n",
    "MSD.run()\n",
    "nframes = MSD.n_frames\n",
    "timestep = 0.0025  # = 5*0.5 fs in picoseconds\n",
    "lagtimes = np.arange(nframes)*timestep\n",
    "\n",
    "msd =  MSD.results.timeseries\n",
    "\n",
    "fig = plt.figure()\n",
    "ax = plt.axes()\n",
    "# we plot the actual MSD\n",
    "ax.plot(lagtimes, msd, color=\"black\", ls=\"-\", label=r'Our simulation')\n",
    "\n",
    "# we plot an exact result for a Brownian particle with D = 1. We do not have the same D!\n",
    "exact = lagtimes*6\n",
    "ax.plot(lagtimes, exact, color=\"black\", ls=\"--\", label=r'$y=2 \\tau$')\n",
    "plt.xlabel('time (ps)')\n",
    "plt.ylabel('Mean Square Displacement (angstrom$^2$)')\n",
    "plt.legend()\n",
    "plt.show()"
   ]
  },
  {
   "cell_type": "markdown",
   "metadata": {},
   "source": [
    "After the simulation has finished, we can calculate the diffusion coefficient ourselves using linear regression:"
   ]
  },
  {
   "cell_type": "code",
   "execution_count": null,
   "metadata": {},
   "outputs": [],
   "source": [
    "from scipy.stats import linregress\n",
    "start_index = 100\n",
    "\n",
    "linear_model = linregress(lagtimes[start_index:],msd[start_index:])\n",
    "slope = linear_model.slope\n",
    "error = linear_model.rvalue\n",
    "# dim_fac is 3 as we computed a 3D msd with 'xyz'\n",
    "D = slope * 1/(2*MSD.dim_fac)\n",
    "\n",
    "print(D)"
   ]
  },
  {
   "cell_type": "markdown",
   "metadata": {},
   "source": [
    "Do you want to improve your results? Start your simulation again but change the number of timesteps to a higher number (run $number_of_timestep). If your CPU has more than one core, you can let it run during work on the next exercises and check later."
   ]
  }
 ],
 "metadata": {
  "kernelspec": {
   "display_name": "Python 3",
   "language": "python",
   "name": "python3"
  },
  "language_info": {
   "codemirror_mode": {
    "name": "ipython",
    "version": 3
   },
   "file_extension": ".py",
   "mimetype": "text/x-python",
   "name": "python",
   "nbconvert_exporter": "python",
   "pygments_lexer": "ipython3",
   "version": "3.8.3"
  },
  "vscode": {
   "interpreter": {
    "hash": "d9a8acb4f733d3596df9f6fac9daff15e014d11794ebc65488d1c191c94698fd"
   }
  }
 },
 "nbformat": 4,
 "nbformat_minor": 1
}
