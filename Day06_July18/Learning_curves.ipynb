{
 "cells": [
  {
   "cell_type": "code",
   "execution_count": null,
   "metadata": {},
   "outputs": [],
   "source": [
    "import numpy as np\n",
    "import matplotlib\n",
    "import matplotlib.pyplot as plt\n",
    "from matplotlib.ticker import MaxNLocator"
   ]
  },
  {
   "cell_type": "markdown",
   "metadata": {},
   "source": [
    "# Learning Curves\n",
    "A lot can be inferred from the energy and force errors over training epochs. To use this plot for your examples, change the folder variable to the folder containing your learning-curve.out. "
   ]
  },
  {
   "cell_type": "code",
   "execution_count": null,
   "metadata": {
    "scrolled": true
   },
   "outputs": [],
   "source": [
    "folder = './H2O/folder_name'\n",
    "\n",
    "lines = np.loadtxt(folder + '/learning-curve.out', skiprows=34)\n",
    "lines_transp = np.transpose(lines)\n",
    "\n",
    "fig, ax = plt.subplots(sharex=True, sharey=True, figsize=(10, 5))\n",
    "\n",
    "plt.xlabel('Epoch')\n",
    "plt.ylabel('Energy RMSE')\n",
    "\n",
    "ax_F = ax.twinx()\n",
    "ax_F.xaxis.set_major_locator(MaxNLocator(integer=True))\n",
    "ax_F.set_ylabel('Force RMSE')\n",
    "\n",
    "cmap = matplotlib.cm.get_cmap('RdYlGn')\n",
    "lns1 = ax.plot(lines_transp[0], lines_transp[1], ls=\"-\", marker = \"o\", label=\"E Train\", color=cmap(0.1))\n",
    "lns2 = ax.plot(lines_transp[0], lines_transp[2], ls=\"-\", marker = \"o\", label=\"E Test\", color=cmap(0.4))\n",
    "\n",
    "lns3 = ax_F.plot(lines_transp[0], lines_transp[9], ls=\"--\", marker = \"s\", label=\"F Train\", color=cmap(0.7))\n",
    "lns4 = ax_F.plot(lines_transp[0], lines_transp[10 ], ls=\"--\", marker = \"s\", label=\"F Test\", color=cmap(0.9))\n",
    "\n",
    "lns = lns1+lns2+lns3+lns4\n",
    "labs = [l.get_label() for l in lns]\n",
    "ax.legend(lns, labs)\n",
    "plt.show()"
   ]
  },
  {
   "cell_type": "markdown",
   "metadata": {},
   "source": [
    "# Hyperparameter tuning\n",
    "Replace X and Y arrays with your results. Separate data by a comma."
   ]
  },
  {
   "cell_type": "code",
   "execution_count": null,
   "metadata": {},
   "outputs": [],
   "source": [
    "X = [10,20,30] # e.g. Number of Nodes\n",
    "Y = [100,10,5] # e.g. Testing Error\n",
    "\n",
    "fig, ax = plt.subplots(sharex=True, sharey=True, figsize=(10, 5))\n",
    "\n",
    "plt.xlabel('X') \n",
    "plt.ylabel('Y')\n",
    "\n",
    "cmap = matplotlib.cm.get_cmap('RdYlGn')\n",
    "lns1 = ax.plot(X, Y, ls=\"-\", marker = \"o\", color=cmap(0.1))\n",
    "\n",
    "plt.show()"
   ]
  }
 ],
 "metadata": {
  "kernelspec": {
   "display_name": "Python 3 (ipykernel)",
   "language": "python",
   "name": "python3"
  },
  "language_info": {
   "codemirror_mode": {
    "name": "ipython",
    "version": 3
   },
   "file_extension": ".py",
   "mimetype": "text/x-python",
   "name": "python",
   "nbconvert_exporter": "python",
   "pygments_lexer": "ipython3",
   "version": "3.10.4"
  },
  "vscode": {
   "interpreter": {
    "hash": "d9a8acb4f733d3596df9f6fac9daff15e014d11794ebc65488d1c191c94698fd"
   }
  }
 },
 "nbformat": 4,
 "nbformat_minor": 1
}
